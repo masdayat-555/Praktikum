{
  "nbformat": 4,
  "nbformat_minor": 0,
  "metadata": {
    "colab": {
      "provenance": [],
      "authorship_tag": "ABX9TyMVMoA2JxlXYCGlNpAYpVFF",
      "include_colab_link": true
    },
    "kernelspec": {
      "name": "python3",
      "display_name": "Python 3"
    },
    "language_info": {
      "name": "python"
    }
  },
  "cells": [
    {
      "cell_type": "markdown",
      "metadata": {
        "id": "view-in-github",
        "colab_type": "text"
      },
      "source": [
        "<a href=\"https://colab.research.google.com/github/masdayat-555/Praktikum/blob/main/Tugas_Praktikum.ipynb\" target=\"_parent\"><img src=\"https://colab.research.google.com/assets/colab-badge.svg\" alt=\"Open In Colab\"/></a>"
      ]
    },
    {
      "cell_type": "markdown",
      "source": [
        "# ***Menghitung Usia***"
      ],
      "metadata": {
        "id": "F7LJ3_KJ0Sv1"
      }
    },
    {
      "cell_type": "code",
      "source": [
        "#Menghitung Usia sekarang\n",
        "tahun_lahir = 1965\n",
        "usia_sekarang = 2024 - 1965\n",
        "usia_80 = 1965 + 80\n",
        "\n",
        "print('Tahun lahir = 1965')\n",
        "print('Usia Trump sekarang =',usia_sekarang, 'tahun')\n",
        "print('Trump berusia 80 tahun pada =', usia_80)\n",
        "\n"
      ],
      "metadata": {
        "colab": {
          "base_uri": "https://localhost:8080/"
        },
        "id": "uTDzJXgt0gO1",
        "outputId": "c728c718-421b-4220-dcdc-958fb2c3104a"
      },
      "execution_count": null,
      "outputs": [
        {
          "output_type": "stream",
          "name": "stdout",
          "text": [
            "Tahun lahir = 1965\n",
            "Usia Trump sekarang = 59 tahun\n",
            "Trump berusia 80 tahun pada = 2045\n"
          ]
        }
      ]
    },
    {
      "cell_type": "markdown",
      "source": [
        "# ***Compound Interest (bunga berbunga)***"
      ],
      "metadata": {
        "id": "gpGqg_3e5UH7"
      }
    },
    {
      "cell_type": "code",
      "source": [
        "#jika setoran awal sebanyak Rp. 5 juta rupiah dan disimpan selama 3 tahun tanpa\n",
        "#pernah diambill, berapa jumlah uang di akhir tahhun ketiga?\n",
        "saldo_awal = 5000000\n",
        "bunga_tahun_satu = 0.1 * saldo_awal\n",
        "saldo_tahun_satu = saldo_awal + bunga_tahun_satu\n",
        "print('Saldo tahun pertama = ', saldo_tahun_satu) #tahun1\n",
        "\n",
        "bunga_tahun_dua = 0.1 * saldo_tahun_satu\n",
        "saldo_tahun_dua = saldo_tahun_satu + bunga_tahun_dua\n",
        "print('Saldo tahun kedua = ', saldo_tahun_dua)\n",
        "\n",
        "bunga_tahun_tiga = 0.1 * saldo_tahun_dua\n",
        "saldo_tahun_tiga = saldo_tahun_dua + bunga_tahun_tiga\n",
        "print('Saldo tahun ketiga = ', saldo_tahun_tiga)"
      ],
      "metadata": {
        "colab": {
          "base_uri": "https://localhost:8080/"
        },
        "id": "uauiH5o35qKz",
        "outputId": "fddddbfd-6a86-4852-ef6c-d17ef9d69bc6"
      },
      "execution_count": null,
      "outputs": [
        {
          "output_type": "stream",
          "name": "stdout",
          "text": [
            "Saldo tahun pertama =  5500000.0\n",
            "Saldo tahun kedua =  6050000.0\n",
            "Saldo tahun ketiga =  6655000.0\n"
          ]
        }
      ]
    },
    {
      "cell_type": "markdown",
      "source": [
        "# ***Formula Compound Interest***"
      ],
      "metadata": {
        "id": "1M0fcXsY-LpM"
      }
    },
    {
      "cell_type": "code",
      "source": [
        "#Formula Compound Interest\n",
        "P = 5000000 #saldo awal\n",
        "r = 0.1 #besar bunga\n",
        "n = 1 #jumlah perhitungan bunga \"1\"\n",
        "t = 3 #jumlah periode\n",
        "print('Saldo Akhir =', P * (1 + r/n) ** (n*t))"
      ],
      "metadata": {
        "colab": {
          "base_uri": "https://localhost:8080/"
        },
        "id": "2RzxNq4E-dNT",
        "outputId": "cd72c11e-64ea-4a0a-8635-ccd8bf029693"
      },
      "execution_count": null,
      "outputs": [
        {
          "output_type": "stream",
          "name": "stdout",
          "text": [
            "Saldo Akhir = 6655000.000000002\n"
          ]
        }
      ]
    },
    {
      "cell_type": "markdown",
      "source": [
        "# ***Latihan 1.2***"
      ],
      "metadata": {
        "id": "wi46YuZHAkma"
      }
    },
    {
      "cell_type": "code",
      "source": [
        "#data awal\n",
        "harga_awal_pergram = 650000\n",
        "harga_kedua_pergram = 685000\n",
        "jumlah_gram_awal = 25\n",
        "\n",
        "#total biaya pembelian awal\n",
        "total_biaya_awal = harga_awal_pergram * jumlah_gram_awal\n",
        "\n",
        "#nilai sekarang\n",
        "nilai_sekarang = harga_kedua_pergram * jumlah_gram_awal\n",
        "\n",
        "#keuntungan\n",
        "keuntungan_rupiah = nilai_sekarang - total_biaya_awal\n",
        "keuntungan_persen = (keuntungan_rupiah / total_biaya_awal) * 100\n",
        "print('Keuntungan dalam rupiah = ', keuntungan_rupiah,)\n",
        "print('Keuntungan dalam persen = ', keuntungan_persen, '%')"
      ],
      "metadata": {
        "colab": {
          "base_uri": "https://localhost:8080/"
        },
        "id": "1r__4YGrAt9N",
        "outputId": "2463ad65-20f3-437c-a570-547627a7d913"
      },
      "execution_count": null,
      "outputs": [
        {
          "output_type": "stream",
          "name": "stdout",
          "text": [
            "Keuntungan dalam rupiah =  875000\n",
            "Keuntungan dalam persen =  5.384615384615385 %\n"
          ]
        }
      ]
    },
    {
      "cell_type": "code",
      "source": [
        "#data awal\n",
        "harga_awal_pergram = 650000\n",
        "harga_kedua_pergram = 685000\n",
        "jumlah_gram_awal = 25\n",
        "\n",
        "#total biaya pembelian awal\n",
        "total_biaya_awal = harga_awal_pergram * jumlah_gram_awal\n",
        "\n",
        "#nilai sekarang\n",
        "nilai_sekarang = harga_kedua_pergram * jumlah_gram_awal\n",
        "\n",
        "#keuntungan\n",
        "keuntungan_rupiah = nilai_sekarang - total_biaya_awal\n",
        "keuntungan_persen = (keuntungan_rupiah / total_biaya_awal) * 100\n",
        "\n",
        "#setelah membeli 15 gram lagi\n",
        "jumlah_gram_baru = 15\n",
        "total_biaya_baru = jumlah_gram_baru * harga_kedua_pergram\n",
        "total_gram_keseluruhan = jumlah_gram_awal + jumlah_gram_baru\n",
        "total_biaya_keseluruhan = total_biaya_awal + total_biaya_baru #pengeluarantotal\n",
        "\n",
        "#setelah harga naik lagi\n",
        "harga_final_pergram = 715000 #harga akhir\n",
        "nilai_final_pergram = total_gram_keseluruhan * harga_final_pergram\n",
        "\n",
        "#keuntungan dalam rupiah dan persen\n",
        "keuntungan_final_rupiah = nilai_final_pergram - total_biaya_keseluruhan\n",
        "keuntungan_final_persen = (keuntungan_final_rupiah/total_biaya_keseluruhan) * 100\n",
        "\n",
        "#output keuntungan\n",
        "print('Keuntungan dalam rupiah = ',keuntungan_rupiah)\n",
        "print(f'Keuntungan dalam persen = {keuntungan_persen:.2f}%')\n",
        "#output keuntungan dalam rupiah setelah pemelian penambahan\n",
        "print('Keuntungan total dalam rupiah = Rp.',keuntungan_final_rupiah)\n",
        "print(f'Keuntungtan total dalam persen = {keuntungan_final_persen:.2f}%')"
      ],
      "metadata": {
        "colab": {
          "base_uri": "https://localhost:8080/"
        },
        "id": "L6p8Z1JvYfwq",
        "outputId": "654555d0-c088-4834-8bc7-4a541942af1a"
      },
      "execution_count": null,
      "outputs": [
        {
          "output_type": "stream",
          "name": "stdout",
          "text": [
            "Keuntungan dalam rupiah =  875000\n",
            "Keuntungan dalam persen = 5.38%\n",
            "Keuntungan total dalam rupiah = Rp. 2075000\n",
            "Keuntungtan total dalam persen = 7.82%\n"
          ]
        }
      ]
    },
    {
      "cell_type": "markdown",
      "source": [
        "# ***Latihan 1.3***\n"
      ],
      "metadata": {
        "id": "BfqVI6R3fzHB"
      }
    },
    {
      "cell_type": "code",
      "source": [
        "import math\n",
        "\n",
        "#Data Awal\n",
        "p = 200000000 #200 juta\n",
        "a = 400000000 #400 juta\n",
        "n = 10 #10%\n",
        "\n",
        "#menghitung waktu\n",
        "t = math.log(a/p) / math.log(1 + n / 100)\n",
        "\n",
        "#output hasil\n",
        "print(f\" {t:.2f} tahun.\")"
      ],
      "metadata": {
        "colab": {
          "base_uri": "https://localhost:8080/"
        },
        "id": "Qw0Zbp4Df-hZ",
        "outputId": "07467691-d37d-4016-b339-ad5a7160f8a0"
      },
      "execution_count": null,
      "outputs": [
        {
          "output_type": "stream",
          "name": "stdout",
          "text": [
            " 7.27 tahun.\n"
          ]
        }
      ]
    }
  ]
}