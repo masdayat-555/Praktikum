{
  "nbformat": 4,
  "nbformat_minor": 0,
  "metadata": {
    "colab": {
      "provenance": [],
      "authorship_tag": "ABX9TyMqtf5Tu3uiSapgaNkswHpv",
      "include_colab_link": true
    },
    "kernelspec": {
      "name": "python3",
      "display_name": "Python 3"
    },
    "language_info": {
      "name": "python"
    }
  },
  "cells": [
    {
      "cell_type": "markdown",
      "metadata": {
        "id": "view-in-github",
        "colab_type": "text"
      },
      "source": [
        "<a href=\"https://colab.research.google.com/github/masdayat-555/Praktikum/blob/main/latihan%20praktikum%201%20dan%202.ipynb\" target=\"_parent\"><img src=\"https://colab.research.google.com/assets/colab-badge.svg\" alt=\"Open In Colab\"/></a>"
      ]
    },
    {
      "cell_type": "markdown",
      "source": [
        "# ***Perkenalan Python***"
      ],
      "metadata": {
        "id": "R7rIqzPOJoQf"
      }
    },
    {
      "cell_type": "code",
      "source": [
        "#perkenalan nama lengkap, jurusan, dan kegiatan menggunakan string\n",
        "namaDepan='Salim'\n",
        "namabelakang='Hidayat'\n",
        "jurusan='Teknik Informatika'\n",
        "fullname=namadepan+namabelakang\n",
        "praktikum='Algoritma & Pemrograman'\n",
        "print('Hello friend, nama saya',fullname,'saya aslinya jurusan', jurusan, 'saya mengikuti praktikum', praktikum)\n",
        "\n"
      ],
      "metadata": {
        "colab": {
          "base_uri": "https://localhost:8080/"
        },
        "id": "iNqsiGNtFWh_",
        "outputId": "1c8e3115-ffb2-4a03-c7cc-c47e7a2c5f4e"
      },
      "execution_count": null,
      "outputs": [
        {
          "output_type": "stream",
          "name": "stdout",
          "text": [
            "Hello friend, nama saya SalimHidayat saya aslinya jurusan Teknik Informatika saya mengikuti praktikum Algoritma & Pemrograman\n"
          ]
        }
      ]
    },
    {
      "cell_type": "markdown",
      "source": [
        "# ***Operasi Matematika***"
      ],
      "metadata": {
        "id": "xspOup-cJ_qQ"
      }
    },
    {
      "cell_type": "code",
      "source": [
        "#operasi matematika\n",
        "a=10          #nilai a ini diberikan angka 10\n",
        "b=17          #nilai b diberi angka 17\n",
        "c=a+b         #proses aritmatik berupa var a ditambah var b yang diberikan ke var c\n",
        "print(c)      #print hasil operasi\n",
        "\n",
        "#string dan string kedua\n",
        "a='10'\n",
        "b='17'\n",
        "c=a+b\n",
        "print(c)"
      ],
      "metadata": {
        "colab": {
          "base_uri": "https://localhost:8080/"
        },
        "id": "38V7Auw8KNTG",
        "outputId": "fd2a6d05-f0a0-42f4-c7e5-0db14767f3e9"
      },
      "execution_count": null,
      "outputs": [
        {
          "output_type": "stream",
          "name": "stdout",
          "text": [
            "27\n",
            "1017\n"
          ]
        }
      ]
    },
    {
      "cell_type": "markdown",
      "source": [
        "# ***Latihan String***"
      ],
      "metadata": {
        "id": "D0RAAMhvKwpY"
      }
    },
    {
      "cell_type": "code",
      "source": [
        "#string dan integer dalam 1 kalimat tanpa operasi\n",
        "nama='Salim Hidayat'\n",
        "umur='19'\n",
        "kampus='Universitas Janabadra'\n",
        "fakultas='Teknik'\n",
        "jurusan='Informatika'\n",
        "\n",
        "print('Nama saya', nama, \"umur saya\", umur, \"saya kuliah di\", kampus, \"fakultas\", fakultas, \"saya suka, dan memilih jurusan\", jurusan)\n",
        "\n"
      ],
      "metadata": {
        "colab": {
          "base_uri": "https://localhost:8080/"
        },
        "id": "BhdZFiCMLxNu",
        "outputId": "46f819a6-3ed6-4142-b9b6-d7f70d9e8d69"
      },
      "execution_count": null,
      "outputs": [
        {
          "output_type": "stream",
          "name": "stdout",
          "text": [
            "Nama saya Salim Hidayat umur saya 19 saya kuliah di Universitas Janabadra fakultas Teknik saya suka, dan memilih jurusan Informatika\n"
          ]
        }
      ]
    },
    {
      "cell_type": "markdown",
      "source": [
        "# ***Latihan string dan operasi matematika***"
      ],
      "metadata": {
        "id": "5XKBSSYCOvdL"
      }
    },
    {
      "cell_type": "code",
      "source": [
        "#string dan operasi matematika\n",
        "\n",
        "#luas segitiga\n",
        "alas=100\n",
        "tinggi=10\n",
        "const=0.5\n",
        "\n",
        "print('Luas Segitiga =',const*alas*tinggi)"
      ],
      "metadata": {
        "colab": {
          "base_uri": "https://localhost:8080/"
        },
        "id": "LWHBfY8qO4VO",
        "outputId": "d65937e2-62fd-455e-aa72-aedaf811c93f"
      },
      "execution_count": null,
      "outputs": [
        {
          "output_type": "stream",
          "name": "stdout",
          "text": [
            "Luas Segitiga = 500.0\n"
          ]
        }
      ]
    },
    {
      "cell_type": "markdown",
      "source": [
        "# ***Praktikum 2***"
      ],
      "metadata": {
        "id": "FqxY-YNDCINc"
      }
    },
    {
      "cell_type": "code",
      "source": [
        "print(True)\n",
        "type(True)\n",
        "\n",
        "#tipe data string\n",
        "print('String menggunakan kutip satu')\n",
        "print(\"String menggunakan kutip dua\")\n",
        "\n",
        "#tipe data string dengan menjelaskan escape squence\n",
        "print('ini adalah tanda sigle quote (\\')')\n",
        "print('ini adalah tanda double quote (\\\")')\n",
        "print('ini adalah tanda back (\\\\)')\n",
        "\n",
        "print('Algoritma\\nPemrograman')\n",
        "print('Algoritma\\tPemrograman')\n",
        "print('Algoritma\\bPemrograman')\n",
        "print('Algoritma\\rPemrograman')\n",
        "print()\n",
        "\n",
        "#tipe data binary\n",
        "print('binari')\n",
        "print(0b10)\n",
        "print(0b110)\n",
        "print(0b1010)\n",
        "print()\n",
        "\n",
        "#Type data octal\n",
        "print('oktal')\n",
        "print(0o10)\n",
        "print(0o110)\n",
        "print(0o1010)\n",
        "print()\n",
        "\n",
        "#type data hexadecimnal\n",
        "print('hexadecimal')\n",
        "print(0x10)\n",
        "print(0x110)\n",
        "print(0x1010)\n",
        "\n",
        "#umur\n",
        "umur = 21\n",
        "print()\n",
        "print(umur)\n",
        "type(umur)\n",
        "\n",
        "#quotient dan oprmomulus\n",
        "print()\n",
        "bagi = 5//2\n",
        "print('quetien')\n",
        "print(bagi)\n",
        "\n",
        "print()\n",
        "bagi = 7%2\n",
        "print('oprmomulus')\n",
        "print(bagi)\n",
        "\n",
        "\n"
      ],
      "metadata": {
        "id": "-uQeuYdZCPSj",
        "outputId": "e86e083c-ef8b-4389-a468-8dd4ed0b5c03",
        "colab": {
          "base_uri": "https://localhost:8080/"
        }
      },
      "execution_count": 29,
      "outputs": [
        {
          "output_type": "stream",
          "name": "stdout",
          "text": [
            "True\n",
            "String menggunakan kutip satu\n",
            "String menggunakan kutip dua\n",
            "ini adalah tanda sigle quote (')\n",
            "ini adalah tanda double quote (\")\n",
            "ini adalah tanda back (\\)\n",
            "Algoritma\n",
            "Pemrograman\n",
            "Algoritma\tPemrograman\n",
            "Algoritma\bPemrograman\n",
            "Algoritma\rPemrograman\n",
            "\n",
            "binari\n",
            "2\n",
            "6\n",
            "10\n",
            "\n",
            "oktal\n",
            "8\n",
            "72\n",
            "520\n",
            "\n",
            "hexadecimal\n",
            "16\n",
            "272\n",
            "4112\n",
            "\n",
            "21\n",
            "\n",
            "quetien\n",
            "2\n",
            "\n",
            "oprmomulus\n",
            "1\n"
          ]
        }
      ]
    },
    {
      "cell_type": "markdown",
      "source": [
        "tugas1"
      ],
      "metadata": {
        "id": "OtdpoEIpEvvG"
      }
    },
    {
      "cell_type": "code",
      "source": [
        "# Meminta input dari pengguna\n",
        "bilangan1 = int(input(\"Masukkan bilangan bulat pertama: \"))\n",
        "bilangan2 = int(input(\"Masukkan bilangan bulat kedua: \"))\n",
        "bilangan3 = int(input(\"Masukkan bilangan bulat ketiga: \"))\n",
        "\n",
        "# Menghitung rata-rata\n",
        "rata_rata = (bilangan1 + bilangan2 + bilangan3) / 3\n",
        "\n",
        "# Menampilkan hasil\n",
        "print(\"Rata-rata dari ketiga bilangan adalah:\", rata_rata)\n"
      ],
      "metadata": {
        "id": "ixqiuY76ExdV",
        "outputId": "4efe85b6-341c-493e-9690-8eb833dc763e",
        "colab": {
          "base_uri": "https://localhost:8080/"
        }
      },
      "execution_count": 13,
      "outputs": [
        {
          "output_type": "stream",
          "name": "stdout",
          "text": [
            "Masukkan bilangan bulat pertama: 20\n",
            "Masukkan bilangan bulat kedua: 40\n",
            "Masukkan bilangan bulat ketiga: 70\n",
            "Rata-rata dari ketiga bilangan adalah: 43.333333333333336\n"
          ]
        }
      ]
    },
    {
      "cell_type": "markdown",
      "source": [
        "tugas 2"
      ],
      "metadata": {
        "id": "L3DHrl9sFx6W"
      }
    },
    {
      "cell_type": "code",
      "source": [
        "# Meminta input dari pengguna\n",
        "x = int(input(\"Masukkan bilangan bulat x: \"))\n",
        "\n",
        "# Memastikan x tidak sama dengan 0 untuk menghindari pembagian dengan nol\n",
        "if x == 0:\n",
        "    print(\"Nilai x tidak boleh 0.\")\n",
        "else:\n",
        "    # Menghitung nilai fungsi f(x)\n",
        "    f_x = 2 * (x ** 3) + 2 * x + (15 / x)\n",
        "\n",
        "    # Menampilkan hasil dengan dua angka di belakang koma\n",
        "    print(\"Nilai f(x) untuk x =\", x, \"adalah: {:.2f}\".format(f_x))\n",
        "\n"
      ],
      "metadata": {
        "id": "Ba2Y-zzEGCLG",
        "outputId": "3b73a05a-f40e-4718-fda3-c62f9c335f1c",
        "colab": {
          "base_uri": "https://localhost:8080/",
          "height": 356
        }
      },
      "execution_count": 23,
      "outputs": [
        {
          "output_type": "error",
          "ename": "KeyboardInterrupt",
          "evalue": "Interrupted by user",
          "traceback": [
            "\u001b[0;31m---------------------------------------------------------------------------\u001b[0m",
            "\u001b[0;31mKeyboardInterrupt\u001b[0m                         Traceback (most recent call last)",
            "\u001b[0;32m<ipython-input-23-46b1c6594ef5>\u001b[0m in \u001b[0;36m<cell line: 2>\u001b[0;34m()\u001b[0m\n\u001b[1;32m      1\u001b[0m \u001b[0;31m# Meminta input dari pengguna\u001b[0m\u001b[0;34m\u001b[0m\u001b[0;34m\u001b[0m\u001b[0m\n\u001b[0;32m----> 2\u001b[0;31m \u001b[0mx\u001b[0m \u001b[0;34m=\u001b[0m \u001b[0mint\u001b[0m\u001b[0;34m(\u001b[0m\u001b[0minput\u001b[0m\u001b[0;34m(\u001b[0m\u001b[0;34m\"Masukkan bilangan bulat x: \"\u001b[0m\u001b[0;34m)\u001b[0m\u001b[0;34m)\u001b[0m\u001b[0;34m\u001b[0m\u001b[0;34m\u001b[0m\u001b[0m\n\u001b[0m\u001b[1;32m      3\u001b[0m \u001b[0;34m\u001b[0m\u001b[0m\n\u001b[1;32m      4\u001b[0m \u001b[0;31m# Memastikan x tidak sama dengan 0 untuk menghindari pembagian dengan nol\u001b[0m\u001b[0;34m\u001b[0m\u001b[0;34m\u001b[0m\u001b[0m\n\u001b[1;32m      5\u001b[0m \u001b[0;32mif\u001b[0m \u001b[0mx\u001b[0m \u001b[0;34m==\u001b[0m \u001b[0;36m0\u001b[0m\u001b[0;34m:\u001b[0m\u001b[0;34m\u001b[0m\u001b[0;34m\u001b[0m\u001b[0m\n",
            "\u001b[0;32m/usr/local/lib/python3.10/dist-packages/ipykernel/kernelbase.py\u001b[0m in \u001b[0;36mraw_input\u001b[0;34m(self, prompt)\u001b[0m\n\u001b[1;32m    849\u001b[0m                 \u001b[0;34m\"raw_input was called, but this frontend does not support input requests.\"\u001b[0m\u001b[0;34m\u001b[0m\u001b[0;34m\u001b[0m\u001b[0m\n\u001b[1;32m    850\u001b[0m             )\n\u001b[0;32m--> 851\u001b[0;31m         return self._input_request(str(prompt),\n\u001b[0m\u001b[1;32m    852\u001b[0m             \u001b[0mself\u001b[0m\u001b[0;34m.\u001b[0m\u001b[0m_parent_ident\u001b[0m\u001b[0;34m,\u001b[0m\u001b[0;34m\u001b[0m\u001b[0;34m\u001b[0m\u001b[0m\n\u001b[1;32m    853\u001b[0m             \u001b[0mself\u001b[0m\u001b[0;34m.\u001b[0m\u001b[0m_parent_header\u001b[0m\u001b[0;34m,\u001b[0m\u001b[0;34m\u001b[0m\u001b[0;34m\u001b[0m\u001b[0m\n",
            "\u001b[0;32m/usr/local/lib/python3.10/dist-packages/ipykernel/kernelbase.py\u001b[0m in \u001b[0;36m_input_request\u001b[0;34m(self, prompt, ident, parent, password)\u001b[0m\n\u001b[1;32m    893\u001b[0m             \u001b[0;32mexcept\u001b[0m \u001b[0mKeyboardInterrupt\u001b[0m\u001b[0;34m:\u001b[0m\u001b[0;34m\u001b[0m\u001b[0;34m\u001b[0m\u001b[0m\n\u001b[1;32m    894\u001b[0m                 \u001b[0;31m# re-raise KeyboardInterrupt, to truncate traceback\u001b[0m\u001b[0;34m\u001b[0m\u001b[0;34m\u001b[0m\u001b[0m\n\u001b[0;32m--> 895\u001b[0;31m                 \u001b[0;32mraise\u001b[0m \u001b[0mKeyboardInterrupt\u001b[0m\u001b[0;34m(\u001b[0m\u001b[0;34m\"Interrupted by user\"\u001b[0m\u001b[0;34m)\u001b[0m \u001b[0;32mfrom\u001b[0m \u001b[0;32mNone\u001b[0m\u001b[0;34m\u001b[0m\u001b[0;34m\u001b[0m\u001b[0m\n\u001b[0m\u001b[1;32m    896\u001b[0m             \u001b[0;32mexcept\u001b[0m \u001b[0mException\u001b[0m \u001b[0;32mas\u001b[0m \u001b[0me\u001b[0m\u001b[0;34m:\u001b[0m\u001b[0;34m\u001b[0m\u001b[0;34m\u001b[0m\u001b[0m\n\u001b[1;32m    897\u001b[0m                 \u001b[0mself\u001b[0m\u001b[0;34m.\u001b[0m\u001b[0mlog\u001b[0m\u001b[0;34m.\u001b[0m\u001b[0mwarning\u001b[0m\u001b[0;34m(\u001b[0m\u001b[0;34m\"Invalid Message:\"\u001b[0m\u001b[0;34m,\u001b[0m \u001b[0mexc_info\u001b[0m\u001b[0;34m=\u001b[0m\u001b[0;32mTrue\u001b[0m\u001b[0;34m)\u001b[0m\u001b[0;34m\u001b[0m\u001b[0;34m\u001b[0m\u001b[0m\n",
            "\u001b[0;31mKeyboardInterrupt\u001b[0m: Interrupted by user"
          ]
        }
      ]
    },
    {
      "cell_type": "markdown",
      "source": [
        "Tugas 3"
      ],
      "metadata": {
        "id": "JZYw9ce8L9A4"
      }
    },
    {
      "cell_type": "code",
      "source": [
        "# Meminta input dari pengguna\n",
        "gaji_per_jam = float(input(\"Masukkan gaji per jam yang Anda inginkan (dalam Rp): \"))\n",
        "jam_kerja_per_minggu = float(input(\"Masukkan jumlah jam kerja yang akan dilakukan dalam 1 minggu: \"))\n",
        "\n",
        "# Menghitung pendapatan Budi selama libur musim panas\n",
        "jumlah_minggu = 5\n",
        "pendapatan_bruto = gaji_per_jam * jam_kerja_per_minggu * jumlah_minggu\n",
        "\n",
        "# Menghitung pendapatan setelah pajak\n",
        "pajak = 0.14\n",
        "pendapatan_setelah_pajak = pendapatan_bruto * (1 - pajak)\n",
        "\n",
        "# Menghitung pengeluaran untuk baju dan aksesoris\n",
        "pengeluaran_baju_aksesoris = pendapatan_setelah_pajak * 0.10\n",
        "\n",
        "# Menghitung pengeluaran untuk alat tulis\n",
        "pengeluaran_alat_tulis = pendapatan_setelah_pajak * 0.01\n",
        "\n",
        "# Menghitung sisa uang setelah pengeluaran\n",
        "sisa_uang = pendapatan_setelah_pajak - (pengeluaran_baju_aksesoris + pengeluaran_alat_tulis)\n",
        "\n",
        "# Menghitung jumlah uang yang akan disedekahkan\n",
        "sedekah = sisa_uang * 0.25\n",
        "\n",
        "# Menghitung uang yang diterima anak yatim dan kaum dhuafa\n",
        "uang_anak_yatim = sedekah * 0.30\n",
        "uang_kaum_dhuafa = sedekah * 0.70\n",
        "\n",
        "# Menampilkan hasil\n",
        "print(\"\\nHasil Perhitungan:\")\n",
        "print(\"1. Pendapatan Budi selama libur musim panas sebelum pajak: Rp {:.2f}\".format(pendapatan_bruto))\n",
        "print(\"2. Pendapatan Budi setelah pajak: Rp {:.2f}\".format(pendapatan_setelah_pajak))\n",
        "print(\"3. Jumlah uang yang akan Budi habiskan untuk membeli baju dan aksesoris: Rp {:.2f}\".format(pengeluaran_baju_aksesoris))\n",
        "print(\"4. Jumlah uang yang akan Budi habiskan untuk membeli alat tulis: Rp {:.2f}\".format(pengeluaran_alat_tulis))\n",
        "print(\"5. Jumlah uang yang akan Budi sedekahkan: Rp {:.2f}\".format(sedekah))\n",
        "print(\"6. Jumlah uang yang akan diterima anak yatim: Rp {:.2f}\".format(uang_anak_yatim))\n",
        "print(\"7. Jumlah uang yang akan diterima kaum dhuafa: Rp {:.2f}\".format(uang_kaum_dhuafa))\n"
      ],
      "metadata": {
        "id": "sVLc_ayRL_AQ",
        "outputId": "860c85be-35b3-4056-9aa4-e392b1966cfc",
        "colab": {
          "base_uri": "https://localhost:8080/"
        }
      },
      "execution_count": 30,
      "outputs": [
        {
          "output_type": "stream",
          "name": "stdout",
          "text": [
            "Masukkan gaji per jam yang Anda inginkan (dalam Rp): 1000\n",
            "Masukkan jumlah jam kerja yang akan dilakukan dalam 1 minggu: 5\n",
            "\n",
            "Hasil Perhitungan:\n",
            "1. Pendapatan Budi selama libur musim panas sebelum pajak: Rp 25000.00\n",
            "2. Pendapatan Budi setelah pajak: Rp 21500.00\n",
            "3. Jumlah uang yang akan Budi habiskan untuk membeli baju dan aksesoris: Rp 2150.00\n",
            "4. Jumlah uang yang akan Budi habiskan untuk membeli alat tulis: Rp 215.00\n",
            "5. Jumlah uang yang akan Budi sedekahkan: Rp 4783.75\n",
            "6. Jumlah uang yang akan diterima anak yatim: Rp 1435.12\n",
            "7. Jumlah uang yang akan diterima kaum dhuafa: Rp 3348.62\n"
          ]
        }
      ]
    }
  ]
}